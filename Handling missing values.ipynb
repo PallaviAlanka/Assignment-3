{
 "cells": [
  {
   "cell_type": "code",
   "execution_count": 1,
   "id": "a403b26d",
   "metadata": {},
   "outputs": [],
   "source": [
    "import pandas as pd\n",
    "import numpy as np"
   ]
  },
  {
   "cell_type": "code",
   "execution_count": 2,
   "id": "8f1f72c8",
   "metadata": {},
   "outputs": [],
   "source": [
    "df=pd.read_csv(\"sample.csv\")"
   ]
  },
  {
   "cell_type": "code",
   "execution_count": 3,
   "id": "3b5f3874",
   "metadata": {},
   "outputs": [
    {
     "name": "stdout",
     "output_type": "stream",
     "text": [
      "SNO       0\n",
      "NAME      1\n",
      "AGE       1\n",
      "SALARY    1\n",
      "dtype: int64\n"
     ]
    }
   ],
   "source": [
    "print(df.isnull().sum())"
   ]
  },
  {
   "cell_type": "code",
   "execution_count": 4,
   "id": "7057de1e",
   "metadata": {},
   "outputs": [
    {
     "name": "stdout",
     "output_type": "stream",
     "text": [
      "   SNO    NAME   AGE   SALARY\n",
      "0    1    Arun  23.0  80000.0\n",
      "1    2   Arjun  21.0  62000.0\n",
      "2    3     NaN  42.0  70000.0\n",
      "3    4  Roshan  35.0  56000.0\n",
      "4    5     Ram  56.0  10000.0\n"
     ]
    }
   ],
   "source": [
    "print(df.head())"
   ]
  },
  {
   "cell_type": "code",
   "execution_count": 5,
   "id": "93c31df1",
   "metadata": {},
   "outputs": [
    {
     "name": "stdout",
     "output_type": "stream",
     "text": [
      "   SNO    NAME   AGE    SALARY\n",
      "0    1    Arun  23.0   80000.0\n",
      "1    2   Arjun  21.0   62000.0\n",
      "2    3       0  42.0   70000.0\n",
      "3    4  Roshan  35.0   56000.0\n",
      "4    5     Ram  56.0   10000.0\n",
      "5    6   Maggi  15.0       0.0\n",
      "6    7   Nikki  34.0  100000.0\n",
      "7    8   Ramya  27.0   34000.0\n",
      "8    9  Varsha  20.0   40000.0\n",
      "9   10    Ajay   0.0   12000.0\n"
     ]
    }
   ],
   "source": [
    "print(df.fillna(0))"
   ]
  },
  {
   "cell_type": "code",
   "execution_count": 6,
   "id": "5f70abcd",
   "metadata": {},
   "outputs": [
    {
     "data": {
      "text/plain": [
       "30.333333333333332"
      ]
     },
     "execution_count": 6,
     "metadata": {},
     "output_type": "execute_result"
    }
   ],
   "source": [
    "a=df['AGE'].mean()\n",
    "a"
   ]
  },
  {
   "cell_type": "code",
   "execution_count": 7,
   "id": "7a738bc6",
   "metadata": {},
   "outputs": [
    {
     "name": "stdout",
     "output_type": "stream",
     "text": [
      "0    23.000000\n",
      "1    21.000000\n",
      "2    42.000000\n",
      "3    35.000000\n",
      "4    56.000000\n",
      "5    15.000000\n",
      "6    34.000000\n",
      "7    27.000000\n",
      "8    20.000000\n",
      "9    30.333333\n",
      "Name: AGE, dtype: float64\n"
     ]
    }
   ],
   "source": [
    "print(df['AGE'].fillna(a))"
   ]
  },
  {
   "cell_type": "code",
   "execution_count": 8,
   "id": "b1b05a34",
   "metadata": {},
   "outputs": [
    {
     "name": "stdout",
     "output_type": "stream",
     "text": [
      "0      Arun\n",
      "1     Arjun\n",
      "2     Queen\n",
      "3    Roshan\n",
      "4       Ram\n",
      "5     Maggi\n",
      "6     Nikki\n",
      "7     Ramya\n",
      "8    Varsha\n",
      "9      Ajay\n",
      "Name: NAME, dtype: object\n"
     ]
    }
   ],
   "source": [
    "print(df['NAME'].fillna('Queen'))"
   ]
  },
  {
   "cell_type": "code",
   "execution_count": 9,
   "id": "58781f5d",
   "metadata": {},
   "outputs": [
    {
     "data": {
      "text/plain": [
       "51555.555555555555"
      ]
     },
     "execution_count": 9,
     "metadata": {},
     "output_type": "execute_result"
    }
   ],
   "source": [
    "c=df['SALARY'].mean()\n",
    "c"
   ]
  },
  {
   "cell_type": "code",
   "execution_count": 10,
   "id": "b3298ab3",
   "metadata": {},
   "outputs": [
    {
     "name": "stdout",
     "output_type": "stream",
     "text": [
      "0     80000.000000\n",
      "1     62000.000000\n",
      "2     70000.000000\n",
      "3     56000.000000\n",
      "4     10000.000000\n",
      "5     51555.555556\n",
      "6    100000.000000\n",
      "7     34000.000000\n",
      "8     40000.000000\n",
      "9     12000.000000\n",
      "Name: SALARY, dtype: float64\n"
     ]
    }
   ],
   "source": [
    "print(df['SALARY'].fillna(c))"
   ]
  },
  {
   "cell_type": "markdown",
   "id": "ee5b045b",
   "metadata": {},
   "source": [
    "#### fillna()--The fillna() function is a method provided by the pandas library in Python. It is used to fill missing or null values in a DataFrame or Series with specified values.\n",
    "#### we can replace it with mean,0 etc"
   ]
  },
  {
   "cell_type": "code",
   "execution_count": null,
   "id": "09859c4e",
   "metadata": {},
   "outputs": [],
   "source": []
  }
 ],
 "metadata": {
  "kernelspec": {
   "display_name": "Python 3 (ipykernel)",
   "language": "python",
   "name": "python3"
  },
  "language_info": {
   "codemirror_mode": {
    "name": "ipython",
    "version": 3
   },
   "file_extension": ".py",
   "mimetype": "text/x-python",
   "name": "python",
   "nbconvert_exporter": "python",
   "pygments_lexer": "ipython3",
   "version": "3.10.0"
  }
 },
 "nbformat": 4,
 "nbformat_minor": 5
}
